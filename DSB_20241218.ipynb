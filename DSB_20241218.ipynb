{
  "nbformat": 4,
  "nbformat_minor": 0,
  "metadata": {
    "colab": {
      "provenance": [],
      "include_colab_link": true
    },
    "kernelspec": {
      "name": "python3",
      "display_name": "Python 3"
    },
    "language_info": {
      "name": "python"
    }
  },
  "cells": [
    {
      "cell_type": "markdown",
      "metadata": {
        "id": "view-in-github",
        "colab_type": "text"
      },
      "source": [
        "<a href=\"https://colab.research.google.com/github/cjc1119/google-classroom/blob/main/DSB_20241218.ipynb\" target=\"_parent\"><img src=\"https://colab.research.google.com/assets/colab-badge.svg\" alt=\"Open In Colab\"/></a>"
      ]
    },
    {
      "cell_type": "code",
      "execution_count": null,
      "metadata": {
        "colab": {
          "base_uri": "https://localhost:8080/"
        },
        "id": "lIXI7-G5qunX",
        "outputId": "e37231a1-9966-4bbb-e4e7-7ad066617358"
      },
      "outputs": [
        {
          "output_type": "stream",
          "name": "stdout",
          "text": [
            "           x  y_true  y_pred\n",
            "0   0.000000    5.50    5.27\n",
            "1   1.111111    7.08    6.85\n",
            "2   2.222222   10.09   10.21\n",
            "3   3.333333   13.19   12.23\n",
            "4   4.444444   13.65   12.79\n",
            "5   5.555556   15.88   15.60\n",
            "6   6.666667   19.91   19.41\n",
            "7   7.777778   21.32   21.48\n",
            "8   8.888889   22.31   21.85\n",
            "9  10.000000   25.54   24.84\n"
          ]
        }
      ],
      "source": [
        "import numpy as np\n",
        "import pandas as pd\n",
        "\n",
        "# Parameters for the true data\n",
        "np.random.seed(42)  # For reproducibility\n",
        "x = np.linspace(0, 10, 10)  # 10 data points\n",
        "m, c = 2, 5  # slope and intercept\n",
        "noise = np.random.normal(0, 1, len(x))  # Random noise\n",
        "\n",
        "# Generate true y values\n",
        "y_true = m * x + c + noise\n",
        "\n",
        "# Generate predicted y values with a small error\n",
        "y_pred = y_true + np.random.normal(0, 0.5, len(y_true))\n",
        "\n",
        "# Create a DataFrame for easier visualization\n",
        "data = pd.DataFrame({\n",
        "    'x': x,\n",
        "    'y_true': np.round(y_true, 2),\n",
        "    'y_pred': np.round(y_pred, 2)\n",
        "})\n",
        "\n",
        "# Display the dataset\n",
        "print(data)\n"
      ]
    },
    {
      "cell_type": "markdown",
      "source": [
        "From the following dataset, calculate the MAE, MSE, and RMSE. Bonus points for R-Squared"
      ],
      "metadata": {
        "id": "GbexHB3KuX4-"
      }
    },
    {
      "cell_type": "code",
      "source": [],
      "metadata": {
        "id": "r-gBK_4NrGOO"
      },
      "execution_count": null,
      "outputs": []
    },
    {
      "cell_type": "code",
      "source": [],
      "metadata": {
        "id": "LMno03WhrmRk"
      },
      "execution_count": null,
      "outputs": []
    },
    {
      "cell_type": "code",
      "source": [],
      "metadata": {
        "id": "teJTZbIXuffq"
      },
      "execution_count": null,
      "outputs": []
    },
    {
      "cell_type": "code",
      "source": [],
      "metadata": {
        "id": "AVwcSW12ufb-"
      },
      "execution_count": null,
      "outputs": []
    },
    {
      "cell_type": "code",
      "source": [],
      "metadata": {
        "id": "caecXtkZufZL"
      },
      "execution_count": null,
      "outputs": []
    },
    {
      "cell_type": "markdown",
      "source": [
        "What if we need the length of the words separated by a space to be added at the end of that same word and have it returned as an array?\n",
        "\n",
        "Example(Input --> Output)\n",
        "```\n",
        "\"apple ban\" --> [\"apple 5\", \"ban 3\"]\n",
        "\"you will win\" -->[\"you 3\", \"will 4\", \"win 3\"]\n",
        "```\n",
        "Your task is to write a function that takes a String and returns an Array/list with the length of each word added to each element .\n",
        "\n",
        "Note: String will have at least one element; words will always be separated by a space.\n",
        "\n",
        "\n",
        "[source](https://www.codewars.com/kata/559d2284b5bb6799e9000047/train/python)"
      ],
      "metadata": {
        "id": "QUqFIJJHuiBE"
      }
    },
    {
      "cell_type": "code",
      "source": [],
      "metadata": {
        "id": "ItNta9wqufWG"
      },
      "execution_count": null,
      "outputs": []
    },
    {
      "cell_type": "code",
      "source": [],
      "metadata": {
        "id": "tU1ZG1CZufSK"
      },
      "execution_count": null,
      "outputs": []
    },
    {
      "cell_type": "code",
      "source": [],
      "metadata": {
        "id": "e7FmEX-uufOp"
      },
      "execution_count": null,
      "outputs": []
    },
    {
      "cell_type": "markdown",
      "source": [
        "given a string, replace every letter with its position in the alphabet.\n",
        "\n",
        "If anything in the text isn't a letter, ignore it and don't return it.\n",
        "\n",
        "```\"a\" = 1, \"b\" = 2, etc.```\n",
        "\n",
        "Example:\n",
        "\n",
        "```alphabet_position(\"The sunset sets at twelve o' clock.\")```\n",
        "\n",
        "Should return ```\"20 8 5 19 21 14 19 5 20 19 5 20 19 1 20 20 23 5 12 22 5 15 3 12 15 3 11\"``` ( as a string )\n",
        "\n",
        "[Source](https://www.codewars.com/kata/546f922b54af40e1e90001da/train/python)"
      ],
      "metadata": {
        "id": "N8WGDK0FumPo"
      }
    },
    {
      "cell_type": "code",
      "source": [],
      "metadata": {
        "id": "pQgueFUcumyc"
      },
      "execution_count": null,
      "outputs": []
    }
  ]
}