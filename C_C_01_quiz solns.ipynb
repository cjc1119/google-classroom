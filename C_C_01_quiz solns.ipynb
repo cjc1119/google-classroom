{
  "cells": [
    {
      "cell_type": "markdown",
      "metadata": {
        "colab_type": "text",
        "id": "view-in-github"
      },
      "source": [
        "<a href=\"https://colab.research.google.com/github/cjc1119/google-classroom/blob/main/Cesar_Cepeda_01_quiz.ipynb\" target=\"_parent\"><img src=\"https://colab.research.google.com/assets/colab-badge.svg\" alt=\"Open In Colab\"/></a>"
      ]
    },
    {
      "cell_type": "markdown",
      "metadata": {
        "id": "w9m--3FrrixR"
      },
      "source": [
        "<img src=\"http://imgur.com/1ZcRyrc.png\" style=\"float: left; margin: 20px; height: 55px\" />\n",
        "\n",
        "# Quiz 1\n",
        "\n",
        "This notebook contains 5 coding challenges.  Take special care to follow the directions _exactly_. In many questions, we ask that you name variables in a specific way. Make sure to do this, as we use it for grading.\n",
        "\n",
        "To **submit** your quiz, simply turn in this Google Colab in Google Classroom.\n",
        "\n",
        "### Quiz Information:\n",
        "- This is an \"open book\" quiz - you may use any resources! This includes Jupyter notebooks, Google, StackOverflow, and your notes. **ANY RESOURCE YOU USE MUST BE CITED** (comment your code with links, which lesson you got the inspiration from, etc.).\n",
        "- You may NOT work with anyone else on this quiz (your classmates, your instructor, etc.).\n",
        "- You will have 1 hour to take this quiz."
      ]
    },
    {
      "cell_type": "markdown",
      "metadata": {
        "id": "eWg6SIgRrixV"
      },
      "source": [
        "# Your Info:\n",
        "**Please fill out the following questions:**\n",
        "\n",
        "### 1. What is your name?"
      ]
    },
    {
      "cell_type": "markdown",
      "metadata": {
        "id": "xvPZPMGDrixW"
      },
      "source": [
        "Cesar Cepeda"
      ]
    },
    {
      "cell_type": "markdown",
      "metadata": {},
      "source": [
        "[Quiz 1 Feedback]<img src = \"C:\\\\Users\\cjc11\\OneDrive\\Stern\\Jobs\\Resumes\\Post-Grad\\_Project Phoenix\\General Assembly\\Data Science Bootcamp - 9.11.24\\Quiz 1 Results.png\">"
      ]
    },
    {
      "cell_type": "markdown",
      "metadata": {
        "id": "PkgtIlFurixX"
      },
      "source": [
        "## Problem 1: List Comprehension\n",
        "\n",
        "Given the following **list** of people:\n",
        "```python\n",
        "people = [\n",
        "    {'name': 'Xlegic', 'age': 37, 'role': 'student'},\n",
        "    {'name': 'John', 'age': 45, 'role': 'student'},\n",
        "    {'name': 'Jasmine', 'age': 20, 'role': 'student'},\n",
        "    {'name': 'Eva', 'age': 33, 'role': 'instructor'},\n",
        "]\n",
        "```\n",
        "\n",
        "\n",
        "\n"
      ]
    },
    {
      "cell_type": "markdown",
      "metadata": {
        "id": "cn2EWtxdrixY"
      },
      "source": [
        "**4pts total**  \n",
        "*Partial credit will be given if substantial progress toward the right answer is made.*"
      ]
    },
    {
      "cell_type": "code",
      "execution_count": 1,
      "metadata": {
        "id": "VpcMLW4XrixZ"
      },
      "outputs": [],
      "source": [
        "people = [\n",
        "    {'name': 'Xlegic', 'age': 37, 'role': 'student'},\n",
        "    {'name': 'John', 'age': 45, 'role': 'student'},\n",
        "    {'name': 'Jasmine', 'age': 20, 'role': 'student'},\n",
        "    {'name': 'Eva', 'age': 33, 'role': 'instructor'},\n",
        "]"
      ]
    },
    {
      "cell_type": "markdown",
      "metadata": {
        "id": "1tKZ4g7zrixa"
      },
      "source": [
        "a. Loop over the list of people printing their name and age."
      ]
    },
    {
      "cell_type": "code",
      "execution_count": 2,
      "metadata": {
        "colab": {
          "base_uri": "https://localhost:8080/"
        },
        "id": "z2MTaceErixf",
        "outputId": "9b1649b0-82b5-4551-9e2d-a4bd46e8e0d6"
      },
      "outputs": [
        {
          "name": "stdout",
          "output_type": "stream",
          "text": [
            "[('Xlegic', 37), ('John', 45), ('Jasmine', 20), ('Eva', 33)]\n"
          ]
        }
      ],
      "source": [
        "name = 'name'\n",
        "age = 'age'\n",
        "role = 'role'\n",
        "print([(entry[name], entry[age]) for entry in people])"
      ]
    },
    {
      "cell_type": "markdown",
      "metadata": {
        "id": "bGfqwOPorixg"
      },
      "source": [
        "b. Loop over the list of people printing only the *students* names and ages."
      ]
    },
    {
      "cell_type": "code",
      "execution_count": 3,
      "metadata": {
        "colab": {
          "base_uri": "https://localhost:8080/"
        },
        "id": "4bqUuxTwrixi",
        "outputId": "37377707-ecba-4060-854d-c31a230898bf"
      },
      "outputs": [
        {
          "name": "stdout",
          "output_type": "stream",
          "text": [
            "[('Xlegic', 37), ('John', 45), ('Jasmine', 20)]\n"
          ]
        }
      ],
      "source": [
        "print([(entry[name], entry[age]) for entry in people if entry[role] == 'student'])"
      ]
    },
    {
      "cell_type": "markdown",
      "metadata": {
        "id": "b-Bk5m36rixj"
      },
      "source": [
        "c. Use a list comprehension to build a new list of students under the age of 40."
      ]
    },
    {
      "cell_type": "code",
      "execution_count": 4,
      "metadata": {
        "colab": {
          "base_uri": "https://localhost:8080/"
        },
        "id": "cpdR8JqNrixk",
        "outputId": "86301e7a-0ae5-4c85-b1f2-51e8227d4332"
      },
      "outputs": [
        {
          "data": {
            "text/plain": [
              "[{'name': 'Xlegic', 'age': 37, 'role': 'student'},\n",
              " {'name': 'Jasmine', 'age': 20, 'role': 'student'},\n",
              " {'name': 'Eva', 'age': 33, 'role': 'instructor'}]"
            ]
          },
          "execution_count": 4,
          "metadata": {},
          "output_type": "execute_result"
        }
      ],
      "source": [
        "new_list = [entry for entry in people if entry[age] < 40]\n",
        "new_list"
      ]
    },
    {
      "cell_type": "markdown",
      "metadata": {
        "id": "wHkcf-jGrixl"
      },
      "source": [
        "## Problem 2: Customer Demographics\n",
        "We provide a data structure consisting of a list of dictionaries. Each dictionary corresponds to a customer and contains some demographic information about them. While we provide you _one_ example of a list of customers, this company receives many such lists per day. Write a function that takes an object like this and **returns the average age of all the customers**. Call this function `average_age()`.\n",
        "\n",
        "Notes:\n",
        "* You may assume every customer will have an age listed (ie, no missing values)\n",
        "* There is no built-in average or mean function in Python. You may _not_ import any additional libraries."
      ]
    },
    {
      "cell_type": "markdown",
      "metadata": {
        "id": "3ImxDz7zrixm"
      },
      "source": [
        "**4pts total**  \n",
        "*Partial credit will be given if substantial progress toward the right answer is made.*"
      ]
    },
    {
      "cell_type": "code",
      "execution_count": 5,
      "metadata": {
        "id": "5wyclVENrixt"
      },
      "outputs": [],
      "source": [
        "customers = [\n",
        "    {\"name\": \"Grace Hopper\", \"age\": 47, \"rank\": \"Rear Admiral\"},\n",
        "    {\"name\": \"Linus Torvalds\", \"age\": 50, \"nationality\": \"Finland\"},\n",
        "    {\"name\": \"Alan Turing\", \"age\": 35, \"nationality\": \"United Kingdom\"},\n",
        "    {\"name\": \"Tim Book\", \"age\": 29, \"organization\": \"General Assembly\"},\n",
        "    {\"name\": \"Katherine Johnson\", \"age\": 101, \"organization\": \"NASA\"},\n",
        "    {\"name\": \"Guido van Rossum\", \"age\": 64, \"rank\": \"BDFL\"},\n",
        "    {\"name\": \"Hadley Wickham\", \"age\": 40, \"nationality\": \"New Zealand\"}\n",
        "]"
      ]
    },
    {
      "cell_type": "code",
      "execution_count": 6,
      "metadata": {
        "id": "BjQDDsOUrixz"
      },
      "outputs": [],
      "source": [
        "# Your answer here: edit this function\n",
        "# replace pass in the below function with your solution\n",
        "\n",
        "def average_age(list_of_dicts):\n",
        "    age = [entry['age'] for entry in list_of_dicts]\n",
        "    return sum(age) / len(age)"
      ]
    },
    {
      "cell_type": "code",
      "execution_count": 7,
      "metadata": {
        "colab": {
          "base_uri": "https://localhost:8080/"
        },
        "id": "VwQLJMCQ3yzo",
        "outputId": "72c71bf9-8bf3-401b-9fbf-2301c14b0ff5"
      },
      "outputs": [
        {
          "data": {
            "text/plain": [
              "52.285714285714285"
            ]
          },
          "execution_count": 7,
          "metadata": {},
          "output_type": "execute_result"
        }
      ],
      "source": [
        "average_age(customers)"
      ]
    },
    {
      "cell_type": "code",
      "execution_count": 8,
      "metadata": {
        "colab": {
          "base_uri": "https://localhost:8080/"
        },
        "id": "g8nPi6qe2Q98",
        "outputId": "271ba069-f63e-4544-c4fc-d3bc6f5f3b8e"
      },
      "outputs": [
        {
          "data": {
            "text/plain": [
              "[47, 50, 35, 29, 101, 64, 40]"
            ]
          },
          "execution_count": 8,
          "metadata": {},
          "output_type": "execute_result"
        }
      ],
      "source": [
        "[entry['age'] for entry in customers]\n"
      ]
    },
    {
      "cell_type": "code",
      "execution_count": 9,
      "metadata": {
        "colab": {
          "base_uri": "https://localhost:8080/"
        },
        "id": "ic-9MBJw2njx",
        "outputId": "4db9400f-e213-47aa-9a40-8acb4c83a13e"
      },
      "outputs": [
        {
          "data": {
            "text/plain": [
              "[dict_values(['Grace Hopper', 47, 'Rear Admiral']),\n",
              " dict_values(['Linus Torvalds', 50, 'Finland']),\n",
              " dict_values(['Alan Turing', 35, 'United Kingdom']),\n",
              " dict_values(['Tim Book', 29, 'General Assembly']),\n",
              " dict_values(['Katherine Johnson', 101, 'NASA']),\n",
              " dict_values(['Guido van Rossum', 64, 'BDFL']),\n",
              " dict_values(['Hadley Wickham', 40, 'New Zealand'])]"
            ]
          },
          "execution_count": 9,
          "metadata": {},
          "output_type": "execute_result"
        }
      ],
      "source": [
        "[entry.values() for entry in customers]"
      ]
    },
    {
      "cell_type": "code",
      "execution_count": 10,
      "metadata": {
        "colab": {
          "base_uri": "https://localhost:8080/"
        },
        "id": "-o-iTZTe3Q4z",
        "outputId": "e101f2be-3ba6-4797-8e69-ccbbb49c2f77"
      },
      "outputs": [
        {
          "data": {
            "text/plain": [
              "52.285714285714285"
            ]
          },
          "execution_count": 10,
          "metadata": {},
          "output_type": "execute_result"
        }
      ],
      "source": [
        "age = [entry['age'] for entry in customers]\n",
        "sum(age) / len(age)"
      ]
    },
    {
      "cell_type": "code",
      "execution_count": 11,
      "metadata": {
        "id": "hI_NYlVi3d0u"
      },
      "outputs": [],
      "source": [
        "def average_age(list_of_dicts):\n",
        "  age = [entry['age'] for entry in list_of_dicts]\n",
        "  return sum(age) / len(age)"
      ]
    },
    {
      "cell_type": "code",
      "execution_count": 12,
      "metadata": {
        "colab": {
          "base_uri": "https://localhost:8080/"
        },
        "id": "d8IQQGq9rixz",
        "outputId": "d3d2e250-d20e-4a07-ab0b-4c8ee0e6ed2a"
      },
      "outputs": [
        {
          "data": {
            "text/plain": [
              "52.285714285714285"
            ]
          },
          "execution_count": 12,
          "metadata": {},
          "output_type": "execute_result"
        }
      ],
      "source": [
        "average_age(customers)"
      ]
    },
    {
      "cell_type": "markdown",
      "metadata": {
        "id": "rPCZZqlVrix3"
      },
      "source": [
        "## Problem 3: Highest and Lowest\n",
        "\n",
        "Write a function `high_and_low` that takes in a string of space separated numbers and are to return the highest and lowest numbers. For example:\n",
        "\n",
        "```python\n",
        "high_and_low(\"1 2 3 4 5\")  # returns \"5 1\"\n",
        "high_and_low(\"1 2 -3 4 5\") # returns \"5 -3\"\n",
        "high_and_low(\"1 -9 3 4 -5\") # returns \"4 -5\"\n",
        "```\n",
        "\n",
        "All numbers will be valid integers, there will always be at least one number in the string, and the return value should be a string with the highest number first. There are built in `max` and `min` functions in Python that you may use here."
      ]
    },
    {
      "cell_type": "markdown",
      "metadata": {
        "id": "ncLblOJcrix6"
      },
      "source": [
        "**4pts total**\n",
        "\n",
        "Partial credit will be given if substantial progress toward the right answer is made."
      ]
    },
    {
      "cell_type": "code",
      "execution_count": 13,
      "metadata": {
        "id": "afXqejMFrix7"
      },
      "outputs": [],
      "source": [
        "def high_and_low(numbers_str):\n",
        "    pass"
      ]
    },
    {
      "cell_type": "code",
      "execution_count": 14,
      "metadata": {
        "id": "oCBS3QtP4Mbg"
      },
      "outputs": [],
      "source": [
        "test = \"1 2 3 4 5\""
      ]
    },
    {
      "cell_type": "code",
      "execution_count": 15,
      "metadata": {
        "colab": {
          "base_uri": "https://localhost:8080/"
        },
        "id": "C_5jx7nd4VM5",
        "outputId": "f0814c6e-e891-4620-9b08-664654f10398"
      },
      "outputs": [
        {
          "data": {
            "text/plain": [
              "['1', '2', '3', '4', '5']"
            ]
          },
          "execution_count": 15,
          "metadata": {},
          "output_type": "execute_result"
        }
      ],
      "source": [
        "test.split()"
      ]
    },
    {
      "cell_type": "code",
      "execution_count": 16,
      "metadata": {
        "colab": {
          "base_uri": "https://localhost:8080/"
        },
        "id": "fy9eILmA4XiK",
        "outputId": "fa0cc4f8-fbc6-4ca3-e795-0c1c95994810"
      },
      "outputs": [
        {
          "data": {
            "text/plain": [
              "[1, 2, 3, 4, 5]"
            ]
          },
          "execution_count": 16,
          "metadata": {},
          "output_type": "execute_result"
        }
      ],
      "source": [
        "[int(num) if type(int(num)) == int else num for num in test.split()]"
      ]
    },
    {
      "cell_type": "code",
      "execution_count": 17,
      "metadata": {
        "colab": {
          "base_uri": "https://localhost:8080/"
        },
        "id": "yI8dSmB0rix8",
        "outputId": "928e2dc5-c80a-426b-eee0-b720616977ee"
      },
      "outputs": [
        {
          "data": {
            "text/plain": [
              "[1, 2, 3, 4, 5]"
            ]
          },
          "execution_count": 17,
          "metadata": {},
          "output_type": "execute_result"
        }
      ],
      "source": [
        "num_list = [int(num) if type(int(num)) == int else num for num in test.split()]\n",
        "num_list"
      ]
    },
    {
      "cell_type": "code",
      "execution_count": 18,
      "metadata": {},
      "outputs": [
        {
          "data": {
            "text/plain": [
              "[1, 2, 3, 4, 5]"
            ]
          },
          "execution_count": 18,
          "metadata": {},
          "output_type": "execute_result"
        }
      ],
      "source": [
        "[num_list[num_list.index(integer)] for integer in num_list]"
      ]
    },
    {
      "cell_type": "code",
      "execution_count": 38,
      "metadata": {},
      "outputs": [],
      "source": [
        "def high_and_low (string):\n",
        "    int_list = [int(num) for num in string.split(\" \")]\n",
        "    max_num = max(int_list)\n",
        "    min_num = min(int_list)\n",
        "    return [max_num, min_num]"
      ]
    },
    {
      "cell_type": "code",
      "execution_count": 42,
      "metadata": {
        "id": "e2adEJ2T4_94"
      },
      "outputs": [
        {
          "data": {
            "text/plain": [
              "[5, 1]"
            ]
          },
          "execution_count": 42,
          "metadata": {},
          "output_type": "execute_result"
        }
      ],
      "source": [
        "high_and_low(test)"
      ]
    },
    {
      "cell_type": "code",
      "execution_count": 30,
      "metadata": {
        "id": "ceLVK1a0rix8"
      },
      "outputs": [],
      "source": [
        "test_1 = \"1 2 3 4 5\"  # returns \"5 1\"\n",
        "test_2 = \"1 2 -3 4 5\" # returns \"5 -3\"\n",
        "test_3 = \"1 -9 3 4 -5\" # returns \"4 -5\""
      ]
    },
    {
      "cell_type": "code",
      "execution_count": 39,
      "metadata": {
        "id": "nroRsOiErix8"
      },
      "outputs": [
        {
          "data": {
            "text/plain": [
              "[5, 1]"
            ]
          },
          "execution_count": 39,
          "metadata": {},
          "output_type": "execute_result"
        }
      ],
      "source": [
        "high_and_low(test_1)"
      ]
    },
    {
      "cell_type": "code",
      "execution_count": 40,
      "metadata": {},
      "outputs": [
        {
          "data": {
            "text/plain": [
              "[5, -3]"
            ]
          },
          "execution_count": 40,
          "metadata": {},
          "output_type": "execute_result"
        }
      ],
      "source": [
        "high_and_low(test_2)"
      ]
    },
    {
      "cell_type": "code",
      "execution_count": 41,
      "metadata": {},
      "outputs": [
        {
          "data": {
            "text/plain": [
              "[4, -9]"
            ]
          },
          "execution_count": 41,
          "metadata": {},
          "output_type": "execute_result"
        }
      ],
      "source": [
        "high_and_low(test_3)"
      ]
    },
    {
      "cell_type": "markdown",
      "metadata": {
        "id": "SbkKpDkUrix9"
      },
      "source": [
        "## Problem 4: Debugging\n",
        "\n",
        "The function `tax_amount` finds the sales tax percentage based on the state where the customer lives. This value is used in the next function, `total_price`, which should return the total price the customer will have to pay (including tax). There are **_four_** errors in the cell below. Three are syntax errors, the other is a semantic error. Find them. Fix them.\n",
        "\n",
        "If all of the errors in the cell are fixed, `total_price(tax_rate, 39.99)` will return `41.15`."
      ]
    },
    {
      "cell_type": "markdown",
      "metadata": {
        "id": "ydJQMSm_rix9"
      },
      "source": [
        "**4pts total**  \n",
        "*Partial credit will be given if substantial progress toward the right answer is made.*"
      ]
    },
    {
      "cell_type": "code",
      "execution_count": null,
      "metadata": {
        "colab": {
          "base_uri": "https://localhost:8080/",
          "height": 111
        },
        "id": "E-M5bh7Frix-",
        "outputId": "c848c465-25d2-4dc8-e329-6ff6c67ba2ab"
      },
      "outputs": [
        {
          "ename": "SyntaxError",
          "evalue": "expected ':' (<ipython-input-99-cb895821c5e5>, line 11)",
          "output_type": "error",
          "traceback": [
            "\u001b[0;36m  File \u001b[0;32m\"<ipython-input-99-cb895821c5e5>\"\u001b[0;36m, line \u001b[0;32m11\u001b[0m\n\u001b[0;31m    def total_price(tax_rate, price_before_taxes)\u001b[0m\n\u001b[0m                                                 ^\u001b[0m\n\u001b[0;31mSyntaxError\u001b[0m\u001b[0;31m:\u001b[0m expected ':'\n"
          ]
        }
      ],
      "source": [
        "# edit this cell to fix the four errors\n",
        "\n",
        "def get_tax_rate(state_abbrev):\n",
        "    state_tax_rates = {'CA': .065,\n",
        "                       'CO': .029,\n",
        "                       'NY': .04}\n",
        "    print(state_tax_rates[state_abbrev])\n",
        "\n",
        "tax_rate = get_tax_rate('CO')\n",
        "\n",
        "def total_price(tax_rate, price_before_taxes)\n",
        "    tax_amt = tax_rate * price_before_taxes\n",
        "    return round(price_before_taxes * tax_amt, 2)\n",
        "\n",
        "total_price(tax_rte, 39.99)"
      ]
    },
    {
      "cell_type": "code",
      "execution_count": null,
      "metadata": {
        "colab": {
          "base_uri": "https://localhost:8080/"
        },
        "id": "5YaRfDSS7xFy",
        "outputId": "5789f852-7d1a-4d30-e85f-232b9a8963e3"
      },
      "outputs": [
        {
          "data": {
            "text/plain": [
              "41.15"
            ]
          },
          "execution_count": 109,
          "metadata": {},
          "output_type": "execute_result"
        }
      ],
      "source": [
        "# edit this cell to fix the four errors\n",
        "\n",
        "def get_tax_rate(state_abbrev):\n",
        "    state_tax_rates = {'CA': .065,\n",
        "                       'CO': .029,\n",
        "                       'NY': .04}\n",
        "    return(state_tax_rates[state_abbrev]) #1\n",
        "\n",
        "tax_rate = get_tax_rate('CO')\n",
        "# tax_rate\n",
        "\n",
        "def total_price(tax_rate, price_before_taxes): #2\n",
        "    tax_amt = (1+tax_rate) * price_before_taxes #3\n",
        "    return round(tax_amt, 2) #4\n",
        "\n",
        "total_price(tax_rate, 39.99) #5"
      ]
    },
    {
      "cell_type": "markdown",
      "metadata": {
        "id": "iE8Vxz30rix-"
      },
      "source": [
        "## Problem 5: Format words into a sentence\n",
        "\n",
        "\n",
        "Complete the function `format_words` that accepts of list of strings separated by commas. The function will return a single string with a comma and space between each word. The last word should be separated by the word 'and' instead of a comma. Empty string values should be ignored. Empty lists passed into the function should result in an empty string returned. For example:\n",
        "\n",
        "```python\n",
        "format_words(['ninja', 'samurai', 'ronin']) # should return \"ninja, samurai and ronin\"\n",
        "format_words(['ninja', ' ', 'ronin']) # should return \"ninja and ronin\"\n",
        "format_words([]) # should return \"\"\n",
        "```"
      ]
    },
    {
      "cell_type": "markdown",
      "metadata": {
        "id": "e_saJynrrix_"
      },
      "source": [
        "**4pts total**  \n",
        "*Partial credit will be given if substantial progress toward the right answer is made.*"
      ]
    },
    {
      "cell_type": "code",
      "execution_count": null,
      "metadata": {
        "id": "DKf5q4YFrix_"
      },
      "outputs": [],
      "source": [
        "# Your answer here: edit this function\n",
        "# replace pass in the below function with your solution\n",
        "\n",
        "def format_words():\n",
        "    pass"
      ]
    },
    {
      "cell_type": "code",
      "execution_count": null,
      "metadata": {
        "id": "r2pLX7YS8ieZ"
      },
      "outputs": [],
      "source": []
    },
    {
      "cell_type": "code",
      "execution_count": null,
      "metadata": {
        "id": "B_4SMuJDriyA"
      },
      "outputs": [],
      "source": [
        "# format_words(['ninja', 'samurai', 'ronin']) # should return \"ninja, samurai and ronin\"\n",
        "# format_words(['ninja', ' ', 'ronin']) # should return \"ninja and ronin\"\n",
        "# format_words([]) # should return \"\""
      ]
    },
    {
      "cell_type": "code",
      "execution_count": null,
      "metadata": {
        "id": "N3k1d-sJ8nTm"
      },
      "outputs": [],
      "source": [
        "test = ['ninja', 'samurai', 'ronin']"
      ]
    },
    {
      "cell_type": "code",
      "execution_count": null,
      "metadata": {
        "colab": {
          "base_uri": "https://localhost:8080/",
          "height": 36
        },
        "id": "FO6duXsU8oK8",
        "outputId": "436a0374-b372-4682-86c4-1180776c452b"
      },
      "outputs": [
        {
          "data": {
            "application/vnd.google.colaboratory.intrinsic+json": {
              "type": "string"
            },
            "text/plain": [
              "'ninja, samurai, ronin'"
            ]
          },
          "execution_count": 134,
          "metadata": {},
          "output_type": "execute_result"
        }
      ],
      "source": [
        "splits = [entry for entry in test]\n",
        "splits\n",
        "\n",
        "joined = ', '.join(splits)\n",
        "joined.rstrip(',')"
      ]
    },
    {
      "cell_type": "code",
      "execution_count": null,
      "metadata": {
        "id": "dqhA-0Bu8qVs"
      },
      "outputs": [],
      "source": []
    }
  ],
  "metadata": {
    "colab": {
      "include_colab_link": true,
      "provenance": []
    },
    "kernelspec": {
      "display_name": "base",
      "language": "python",
      "name": "python3"
    },
    "language_info": {
      "codemirror_mode": {
        "name": "ipython",
        "version": 3
      },
      "file_extension": ".py",
      "mimetype": "text/x-python",
      "name": "python",
      "nbconvert_exporter": "python",
      "pygments_lexer": "ipython3",
      "version": "3.11.7"
    }
  },
  "nbformat": 4,
  "nbformat_minor": 0
}
