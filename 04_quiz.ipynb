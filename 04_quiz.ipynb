{
  "cells": [
    {
      "cell_type": "markdown",
      "metadata": {
        "id": "view-in-github",
        "colab_type": "text"
      },
      "source": [
        "<a href=\"https://colab.research.google.com/github/cjc1119/google-classroom/blob/main/04_quiz.ipynb\" target=\"_parent\"><img src=\"https://colab.research.google.com/assets/colab-badge.svg\" alt=\"Open In Colab\"/></a>"
      ]
    },
    {
      "cell_type": "markdown",
      "metadata": {
        "id": "wyyaY1z-AMcf"
      },
      "source": [
        "<img src=\"http://imgur.com/1ZcRyrc.png\" style=\"float: left; margin: 20px; height: 55px\" />\n",
        "\n",
        "# Quiz 5\n",
        "\n",
        "This notebook contains 5 coding challenges. You are to clone this repository and fill in the quiz with your answers, taking special care to follow the directions _exactly_. In many questions, we ask that you name variables in a specific way. Make sure to do this, as we use it for grading.\n",
        "\n",
        "To **submit** your quiz, drop your completed notebook in the file uploader in the provided Google Form.\n",
        "\n",
        "### Quiz Information:\n",
        "- This is a \"closed book\" quiz - you may **NOT** use any resources! This includes other code files, Google, StackOverflow, your notes, your classmates, your instructor, or anyone else. Use of any outside resources on this quiz will be considered plagiarism.\n",
        "- You will have 1 hour to take this quiz."
      ]
    },
    {
      "cell_type": "markdown",
      "metadata": {
        "id": "6RZQirYsAMch"
      },
      "source": [
        "# Your Info:\n",
        "**Please fill out the following questions:**\n",
        "\n",
        "### 1. What is your name?"
      ]
    },
    {
      "cell_type": "markdown",
      "metadata": {
        "id": "u96bFbhGAMci"
      },
      "source": []
    },
    {
      "cell_type": "markdown",
      "metadata": {
        "id": "PPf4HnEqAMci"
      },
      "source": [
        "### 2. What is your email?\n",
        "**Please make sure this is the same email you will use in the Google form to submit your work.**"
      ]
    },
    {
      "cell_type": "markdown",
      "metadata": {
        "id": "6PGPwxr9AMci"
      },
      "source": []
    },
    {
      "cell_type": "markdown",
      "metadata": {
        "id": "iRKb3RmJAMcj"
      },
      "source": [
        "### 3. Which section are you in?"
      ]
    },
    {
      "cell_type": "markdown",
      "metadata": {
        "id": "DR1_lzmIAMcj"
      },
      "source": []
    },
    {
      "cell_type": "markdown",
      "metadata": {
        "id": "XkGq6s-0AMcj"
      },
      "source": [
        "## Problem 1: The Classic FizzBuzz\n",
        "\n",
        "Write a function called `fizzbuzz` that takes in a number $n$ and returns a **list** of each number from 1 to $n$, but:\n",
        "- For each multiple of 3, the item in the list should be \"Fizz\" instead of the number.\n",
        "- For each multiple of 5, the item in the list should be \"Buzz\" instead of the number.\n",
        "- For numbers which are multiples of both 3 and 5, the item in the list should be \"FizzBuzz\" instead of the number.\n",
        "\n",
        "Try to make your function as efficient & concise as possible.\n",
        "\n",
        "> For example:\n",
        "```python\n",
        "fizzbuzz(5)\n",
        "```\n",
        "> should return:\n",
        "```python\n",
        "[1, 2, 'Fizz', 4, 'Buzz']\n",
        "```"
      ]
    },
    {
      "cell_type": "markdown",
      "metadata": {
        "id": "yhPpfzdmAMck"
      },
      "source": [
        "**4pts total**  \n",
        "*Partial credit will be given if substantial progress to the right answer is made.*"
      ]
    },
    {
      "cell_type": "code",
      "execution_count": null,
      "metadata": {
        "id": "oqb1ySMNAMcl"
      },
      "outputs": [],
      "source": [
        "# your answer here:\n",
        "\n"
      ]
    },
    {
      "cell_type": "code",
      "execution_count": null,
      "metadata": {
        "id": "BZoinkSeAMcm"
      },
      "outputs": [],
      "source": [
        "fizzbuzz(15)"
      ]
    },
    {
      "cell_type": "markdown",
      "metadata": {
        "id": "5xDm_kNZAMcm"
      },
      "source": [
        "## Problem 2: Factorials!\n",
        "\n",
        "Write a function called `smallest_int` that takes in a digit $m$ and returns the smallest non-negative integer $n$ for which $n!$ starts with the given digit $m$.\n",
        "\n",
        "> For example:\n",
        "```python\n",
        "smallest_int(5)\n",
        "```\n",
        "> should return:\n",
        "```python\n",
        "7\n",
        "```\n",
        "> because: $7! = 5040$, and $7$ is the smallest non-negative integer $n$ where $n!$ starts with $5$.\n",
        "\n",
        "Use this function to find the smallest non-negative integer $n$ for which $n!$ starts with $9$."
      ]
    },
    {
      "cell_type": "markdown",
      "metadata": {
        "id": "p6jzUvP0AMcn"
      },
      "source": [
        "**4pts total**  \n",
        "*Partial credit will be given if substantial progress to the right answer is made.*"
      ]
    },
    {
      "cell_type": "code",
      "execution_count": null,
      "metadata": {
        "id": "rDygLeREAMcn"
      },
      "outputs": [],
      "source": [
        "# your answer here:\n",
        "\n"
      ]
    },
    {
      "cell_type": "code",
      "execution_count": null,
      "metadata": {
        "id": "H4XpU3-5AMco"
      },
      "outputs": [],
      "source": [
        "smallest_int(5)"
      ]
    },
    {
      "cell_type": "code",
      "execution_count": null,
      "metadata": {
        "id": "TtIGgahXAMco"
      },
      "outputs": [],
      "source": [
        "smallest_int(9)"
      ]
    },
    {
      "cell_type": "markdown",
      "metadata": {
        "id": "FlJipq_lAMco"
      },
      "source": [
        "## Problem 3: Quiz Scores\n",
        "\n",
        "You are given a dictionary containing your scores on various past quizzes (the keys are the quiz names and the values are your scores on the quizzes). Write a function called `quiz_scores` that takes in that dictionary and returns a **list** of just quiz names (i.e. 'Quiz 1', 'Quiz 2', etc.) where your score was **at least 15 points**, in descending order of the scores (highest scoring quiz to lowest scoring quiz).\n",
        "\n",
        "Note: you can assume the scores will always be unique (so no duplicate values).\n",
        "\n",
        "> For example:\n",
        "```python\n",
        "quiz_scores({'Quiz 1': 10, 'Quiz 2': 17, 'Quiz 3': 20, 'Quiz 4': 15})\n",
        "```\n",
        "> should return:\n",
        "```python\n",
        "['Quiz 3', 'Quiz 2', 'Quiz 4']\n",
        "```"
      ]
    },
    {
      "cell_type": "markdown",
      "metadata": {
        "id": "Ls-oZChrAMco"
      },
      "source": [
        "### 4pts total\n",
        "**Partial credit will be given if substantial progress to the right answer is made**"
      ]
    },
    {
      "cell_type": "code",
      "execution_count": null,
      "metadata": {
        "id": "JDy-iNBYAMcp"
      },
      "outputs": [],
      "source": [
        "# your answer here:\n",
        "\n"
      ]
    },
    {
      "cell_type": "code",
      "execution_count": null,
      "metadata": {
        "id": "x1cpSCFdAMcp"
      },
      "outputs": [],
      "source": [
        "quiz_scores({'Quiz 1': 10, 'Quiz 2': 17, 'Quiz 3': 20, 'Quiz 4': 15})"
      ]
    },
    {
      "cell_type": "markdown",
      "metadata": {
        "id": "IPv2VyiJAMcp"
      },
      "source": [
        "## Problem 4: Camels and Snakes\n",
        "\n",
        "Your coworker gives you some Python code but used camelCase instead of snake_case for all of their variable names! Write a function called `camel_to_snake` that takes in a variable name in camelCase and returns that variable name in snake_case.\n",
        "\n",
        "You can assume that there will only be one or two words in each variable (i.e. `variable` or `myVariable`), but you can get 1 bonus point if you extend this to work with any number of words in the variable name (i.e. `myFirstVariable` would become `my_first_variable`).\n",
        "\n",
        "> For example:\n",
        "```python\n",
        "camel_to_snake('myVariable')\n",
        "```\n",
        "> should return:\n",
        "```python\n",
        "'my_variable'\n",
        "```"
      ]
    },
    {
      "cell_type": "markdown",
      "metadata": {
        "id": "IoRpxzV-AMcq"
      },
      "source": [
        "**4pts total, with an opportunity for 1 bonus point**  \n",
        "*Partial credit will be given if substantial progress to the right answer is made.*"
      ]
    },
    {
      "cell_type": "code",
      "execution_count": null,
      "metadata": {
        "id": "BaLOC5wYAMcq"
      },
      "outputs": [],
      "source": [
        "# your answer here:\n",
        "\n"
      ]
    },
    {
      "cell_type": "code",
      "execution_count": null,
      "metadata": {
        "id": "93G4NpICAMcq"
      },
      "outputs": [],
      "source": [
        "camel_to_snake('myVariable')"
      ]
    },
    {
      "cell_type": "code",
      "execution_count": null,
      "metadata": {
        "id": "kinRMqCzAMcr"
      },
      "outputs": [],
      "source": [
        "# for bonus:\n",
        "camel_to_snake('myFirstVariable')"
      ]
    },
    {
      "cell_type": "markdown",
      "metadata": {
        "id": "LBu1kMoUAMct"
      },
      "source": [
        "## Bonus: Quotes\n",
        "\n",
        "Get up to 2 bonus points for writing a famous/movie quote in code (Python, SQL, Unix commands, etc.). Your code does not have to actually run but it should make sense.\n",
        "\n",
        "> Example 1 (credit: Riley Dallas):\n",
        "```python\n",
        "if not success:\n",
        "    for i in range(2):\n",
        "        tries += 1\n",
        "```\n",
        "> \"If at first you don't succeed, try try again.\"\n",
        "\n",
        "> Example 2 (credit: Noah Christiansen):\n",
        "```shell\n",
        "C:\\Users\\nobody> mv baby.txt corner\n",
        "```\n",
        "> \"Nobody puts Baby in a corner.\" (from the movie [*Dirty Dancing*](https://writingexplained.org/idiom-dictionary/nobody-puts-baby-in-the-corner))"
      ]
    },
    {
      "cell_type": "code",
      "execution_count": null,
      "metadata": {
        "id": "g0MQTJyDAMct"
      },
      "outputs": [],
      "source": []
    }
  ],
  "metadata": {
    "kernelspec": {
      "display_name": "Python 3",
      "language": "python",
      "name": "python3"
    },
    "language_info": {
      "codemirror_mode": {
        "name": "ipython",
        "version": 3
      },
      "file_extension": ".py",
      "mimetype": "text/x-python",
      "name": "python",
      "nbconvert_exporter": "python",
      "pygments_lexer": "ipython3",
      "version": "3.7.6"
    },
    "colab": {
      "provenance": [],
      "include_colab_link": true
    }
  },
  "nbformat": 4,
  "nbformat_minor": 0
}