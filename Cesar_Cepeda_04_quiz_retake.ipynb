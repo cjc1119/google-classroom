{
  "cells": [
    {
      "cell_type": "markdown",
      "metadata": {
        "id": "view-in-github",
        "colab_type": "text"
      },
      "source": [
        "<a href=\"https://colab.research.google.com/github/cjc1119/google-classroom/blob/main/Cesar_Cepeda_04_quiz_retake.ipynb\" target=\"_parent\"><img src=\"https://colab.research.google.com/assets/colab-badge.svg\" alt=\"Open In Colab\"/></a>"
      ]
    },
    {
      "cell_type": "markdown",
      "metadata": {
        "id": "NwZK1D6PnFyI"
      },
      "source": [
        "<img src=\"http://imgur.com/1ZcRyrc.png\" style=\"float: left; margin: 20px; height: 55px\" />\n",
        "\n",
        "# Quiz 4 - Retake\n",
        "\n",
        "This notebook contains 5 coding challenges. Take special care to follow the directions _exactly_. In many questions, we ask that you name variables in a specific way. Make sure to do this, as we use it for grading.\n",
        "\n",
        "To **submit** your quiz, hit submit in google classroom after you complete the notebook.\n",
        "\n",
        "### Quiz Information:\n",
        "\n",
        "- This is a \"closed book\" quiz - you may NOT use any resources! This includes other code files, Google, StackOverflow, your notes, your classmates, your instructor, or anyone else. Use of any outside resources on this quiz will be considered plagiarism.\n",
        "- You will have 1 hour to take this quiz."
      ]
    },
    {
      "cell_type": "markdown",
      "metadata": {
        "id": "IqTnby-hnFyP"
      },
      "source": [
        "## Problem 1: Prime Numbers\n",
        "\n",
        "A prime number is defined as a whole number greater than 1 that is only divisible by 1 and itself. The smallest prime number is 2.\n",
        "\n",
        "Write a function called `is_prime` that takes in a number $n$ and returns 'yes' if the number is prime and 'no' if the number is not a prime number.\n",
        "\n",
        "Make sure to think about the cases when $n$ is negative or $n = 1$ (1 is not a prime number).\n",
        "\n",
        "> For example:\n",
        "```python\n",
        "is_prime(17)\n",
        "```\n",
        "> should return:\n",
        "```python\n",
        "'yes'\n",
        "```"
      ]
    },
    {
      "cell_type": "markdown",
      "metadata": {
        "id": "N8ewOQY8nFyQ"
      },
      "source": [
        "**4pts total**  \n",
        "*Partial credit will be given if substantial progress to the right answer is made.*"
      ]
    },
    {
      "cell_type": "code",
      "execution_count": 31,
      "metadata": {
        "id": "avs-wSornFyR"
      },
      "outputs": [],
      "source": [
        "# your answer here:\n",
        "# divisible 1\n",
        "# divisible itself\n",
        "# prime_smallest = 2\n",
        "\n",
        "# def is_prime(n):\n",
        "  # part 1: 'yes'\n",
        "\n",
        "  # part 2: 'no'\n",
        "\n",
        "  # part 3: negative\n",
        "\n",
        "  # part 4: 1\n",
        "\n",
        "  # testing with n=3\n",
        "  # n=3\n",
        "  # modulos = []\n",
        "  # for i in range (1,n+1):\n",
        "  #   modulos.append(i%n)\n",
        "  # print(modulos)\n",
        "  #   # print (i%n)\n",
        "\n",
        "def is_prime(n):\n",
        "  # testing with n=5\n",
        "  n=5\n",
        "  modulos = []\n",
        "  for i in range (1,n+1):\n",
        "    modulos.append(i%n)\n",
        "    print(modulos)\n",
        "    print(\"Number of Perfect Divisions:\", modulos.count(0))\n",
        "    # print (i%n)"
      ]
    },
    {
      "cell_type": "code",
      "source": [
        "is_prime(5)"
      ],
      "metadata": {
        "colab": {
          "base_uri": "https://localhost:8080/"
        },
        "id": "kBu9Lmor7v7p",
        "outputId": "41a9f488-5f9d-4772-c2e2-2627f9a9052f"
      },
      "execution_count": 23,
      "outputs": [
        {
          "output_type": "stream",
          "name": "stdout",
          "text": [
            "[1, 2, 3, 4, 0]\n",
            "Number of Perfect Divisions 1\n"
          ]
        }
      ]
    },
    {
      "cell_type": "code",
      "source": [
        "# testing with non-prime n=10\n",
        "def is_prime(n):\n",
        "  # n=10\n",
        "  modulos = []\n",
        "  for i in range (2,n+1):\n",
        "    modulos.append(n%i)\n",
        "    print(modulos)\n",
        "    print(\"Number of Perfect Divisions:\", modulos.count(0))\n",
        "    # print (i%n)\n"
      ],
      "metadata": {
        "id": "oAue37SG9AB1"
      },
      "execution_count": 41,
      "outputs": []
    },
    {
      "cell_type": "code",
      "source": [
        "is_prime(10) # forgot to switch % order so doing below and retesting 5"
      ],
      "metadata": {
        "colab": {
          "base_uri": "https://localhost:8080/"
        },
        "id": "AJ8w-W6q7qD9",
        "outputId": "8fa29c71-05d0-4b5e-eb62-165f9180caa3"
      },
      "execution_count": 42,
      "outputs": [
        {
          "output_type": "stream",
          "name": "stdout",
          "text": [
            "[0]\n",
            "Number of Perfect Divisions: 1\n",
            "[0, 1]\n",
            "Number of Perfect Divisions: 1\n",
            "[0, 1, 2]\n",
            "Number of Perfect Divisions: 1\n",
            "[0, 1, 2, 0]\n",
            "Number of Perfect Divisions: 2\n",
            "[0, 1, 2, 0, 4]\n",
            "Number of Perfect Divisions: 2\n",
            "[0, 1, 2, 0, 4, 3]\n",
            "Number of Perfect Divisions: 2\n",
            "[0, 1, 2, 0, 4, 3, 2]\n",
            "Number of Perfect Divisions: 2\n",
            "[0, 1, 2, 0, 4, 3, 2, 1]\n",
            "Number of Perfect Divisions: 2\n",
            "[0, 1, 2, 0, 4, 3, 2, 1, 0]\n",
            "Number of Perfect Divisions: 3\n"
          ]
        }
      ]
    },
    {
      "cell_type": "code",
      "source": [
        "is_prime(5)"
      ],
      "metadata": {
        "colab": {
          "base_uri": "https://localhost:8080/"
        },
        "id": "JvSRWaiK9yZ9",
        "outputId": "4d51e118-6638-4c43-bf50-bc363db4278c"
      },
      "execution_count": 44,
      "outputs": [
        {
          "output_type": "stream",
          "name": "stdout",
          "text": [
            "[1]\n",
            "Number of Perfect Divisions: 0\n",
            "[1, 2]\n",
            "Number of Perfect Divisions: 0\n",
            "[1, 2, 1]\n",
            "Number of Perfect Divisions: 0\n",
            "[1, 2, 1, 0]\n",
            "Number of Perfect Divisions: 1\n"
          ]
        }
      ]
    },
    {
      "cell_type": "code",
      "source": [
        "# completing parts 1/2 of code based on number of perfect divisions; if only 1 then prime\n",
        "def is_prime(n):\n",
        "  # n=10\n",
        "  if n == 1:\n",
        "    return 'no'\n",
        "  pass\n",
        "  modulos = []\n",
        "  for i in range (2,n+1):\n",
        "    modulos.append(n%i)\n",
        "    # print(modulos)\n",
        "    # print(\"Number of Perfect Divisions:\", modulos.count(0))\n",
        "  if modulos.count(0) == 1:\n",
        "    return 'yes'\n",
        "  else:\n",
        "    return 'no'\n",
        "\n",
        "# outstnainding parts:\n",
        "# part 3: negative\n",
        "# part 4: 1"
      ],
      "metadata": {
        "id": "APmexJkW-IuU"
      },
      "execution_count": 52,
      "outputs": []
    },
    {
      "cell_type": "code",
      "execution_count": 53,
      "metadata": {
        "id": "T-Kw8Td7nFyS",
        "colab": {
          "base_uri": "https://localhost:8080/",
          "height": 36
        },
        "outputId": "030779b4-d4dd-42bf-8a49-2c425fc7120f"
      },
      "outputs": [
        {
          "output_type": "execute_result",
          "data": {
            "text/plain": [
              "'yes'"
            ],
            "application/vnd.google.colaboratory.intrinsic+json": {
              "type": "string"
            }
          },
          "metadata": {},
          "execution_count": 53
        }
      ],
      "source": [
        "is_prime(17)"
      ]
    },
    {
      "cell_type": "code",
      "execution_count": 54,
      "metadata": {
        "id": "9fAkAIIDnFyT",
        "colab": {
          "base_uri": "https://localhost:8080/",
          "height": 36
        },
        "outputId": "aa2dd2b9-23e0-4dd0-e2bc-c58d24db8898"
      },
      "outputs": [
        {
          "output_type": "execute_result",
          "data": {
            "text/plain": [
              "'yes'"
            ],
            "application/vnd.google.colaboratory.intrinsic+json": {
              "type": "string"
            }
          },
          "metadata": {},
          "execution_count": 54
        }
      ],
      "source": [
        "is_prime(2)"
      ]
    },
    {
      "cell_type": "code",
      "execution_count": 55,
      "metadata": {
        "id": "go7qz2lOnFyT",
        "colab": {
          "base_uri": "https://localhost:8080/",
          "height": 36
        },
        "outputId": "3fd17733-f33a-4f4c-d28e-1cc6b5a17ad1"
      },
      "outputs": [
        {
          "output_type": "execute_result",
          "data": {
            "text/plain": [
              "'no'"
            ],
            "application/vnd.google.colaboratory.intrinsic+json": {
              "type": "string"
            }
          },
          "metadata": {},
          "execution_count": 55
        }
      ],
      "source": [
        "is_prime(1)"
      ]
    },
    {
      "cell_type": "markdown",
      "metadata": {
        "id": "1IaOYDevnFyT"
      },
      "source": [
        "## Problem 2: Exponents\n",
        "\n",
        "Write code to find the largest integer $n < 1000$ such that $2^n$ does not contain 0 as a digit."
      ]
    },
    {
      "cell_type": "markdown",
      "metadata": {
        "id": "OpGrKLJnnFyU"
      },
      "source": [
        "**4pts total**  \n",
        "*Partial credit will be given if substantial progress to the right answer is made.*"
      ]
    },
    {
      "cell_type": "code",
      "execution_count": 76,
      "metadata": {
        "id": "pq0ly9R2nFyU",
        "colab": {
          "base_uri": "https://localhost:8080/"
        },
        "outputId": "22012aca-da19-43be-94aa-eb32cac248f8"
      },
      "outputs": [
        {
          "output_type": "stream",
          "name": "stdout",
          "text": [
            "2 <class 'str'>\n",
            "Current: 2\n",
            "4 <class 'str'>\n",
            "Current: 4\n",
            "8 <class 'str'>\n",
            "Current: 8\n",
            "16 <class 'str'>\n",
            "Current: 16\n",
            "32 <class 'str'>\n",
            "Current: 32\n",
            "64 <class 'str'>\n",
            "Current: 64\n",
            "128 <class 'str'>\n",
            "Current: 128\n",
            "256 <class 'str'>\n",
            "Current: 256\n",
            "512 <class 'str'>\n",
            "Current: 512\n"
          ]
        }
      ],
      "source": [
        "# your answer here:\n",
        "# starting positive; will expand if time\n",
        "for n in range (1, 10): # starting with smaller endpoint, 9\n",
        "# for n in range (1, 1000):\n",
        "  # print(2**n, type(2**n))\n",
        "  string_exponent = str(2**n)\n",
        "  print(string_exponent, type(string_exponent))\n",
        "  results = []\n",
        "  if str(0) not in string_exponent:\n",
        "    current = string_exponent\n",
        "    results.append(current)\n",
        "    print(\"Current:\", current)\n",
        "  else:\n",
        "    print(results[-1])\n",
        "    break"
      ]
    },
    {
      "cell_type": "code",
      "source": [
        "# expanding endpoint, 19\n",
        "for n in range (1, 20):\n",
        "  string_exponent = str(2**n)\n",
        "  # print(string_exponent, type(string_exponent))\n",
        "  results = []\n",
        "  # current = ''\n",
        "  if str(0) not in string_exponent:\n",
        "    current = string_exponent\n",
        "    results.append(current)\n",
        "    continue\n",
        "    # print(\"Current:\", current)\n",
        "  else:\n",
        "    pass\n",
        "  print(\"Found a 0 at:\", current)\n",
        "\n",
        "# needs tweaking"
      ],
      "metadata": {
        "colab": {
          "base_uri": "https://localhost:8080/"
        },
        "id": "e77NLoREA62j",
        "outputId": "5ea2d67a-60bd-4a21-a91f-ccc87cc561e0"
      },
      "execution_count": 86,
      "outputs": [
        {
          "output_type": "stream",
          "name": "stdout",
          "text": [
            "Found a 0 at: 512\n",
            "Found a 0 at: 512\n",
            "Found a 0 at: 512\n",
            "Found a 0 at: 65536\n"
          ]
        }
      ]
    },
    {
      "cell_type": "markdown",
      "metadata": {
        "id": "QcwgYdFXnFyV"
      },
      "source": [
        "## Problem 3: Gaps\n",
        "\n",
        "Given any list of sorted numbers and an integer $k$, write a function called `gap_k` that finds the $k^{th}$ largest gap between adjacent numbers in the list.\n",
        "\n",
        "> For example:\n",
        "```python\n",
        "gap_k([1, 2, 4, 8, 16, 19], k=2)\n",
        "```\n",
        "> should return:\n",
        "```python\n",
        "4\n",
        "```\n",
        "> Because, if you take the difference between each number in the list and its adjacent number you get the following results:  \n",
        "$2 - 1 = 1$     \n",
        "$4 - 2 = 2$    \n",
        "$8 - 4 = 4$    \n",
        "$16 - 8 = 8$    \n",
        "$19 - 16 = 3$    \n",
        "If you sort these results from largest to smallest, the $2^{nd}$ (since $k=2$) largest value is 4."
      ]
    },
    {
      "cell_type": "markdown",
      "metadata": {
        "id": "HfIIK6AjnFyV"
      },
      "source": [
        "### 4pts total\n",
        "*Partial credit will be given if substantial progress to the right answer is made*"
      ]
    },
    {
      "cell_type": "code",
      "execution_count": 87,
      "metadata": {
        "id": "JWGrAvZTnFyV"
      },
      "outputs": [],
      "source": [
        "# your answer here:\n",
        "# rough steps planning:\n",
        "  # find diff between subsequent indexes\n",
        "\n",
        "  # append to winner variable\n",
        "\n",
        "  # update winner if next diff larger\n",
        "\n",
        "# will return time-dependent"
      ]
    },
    {
      "cell_type": "code",
      "execution_count": null,
      "metadata": {
        "id": "BTH3u63jnFyW"
      },
      "outputs": [],
      "source": [
        "gap_k([1, 2, 4, 8, 16, 19], k=2)"
      ]
    },
    {
      "cell_type": "code",
      "execution_count": null,
      "metadata": {
        "id": "w3YgvKGpnFyW"
      },
      "outputs": [],
      "source": [
        "gap_k([10, 25, 26, 28, 40, 43], k=3)"
      ]
    },
    {
      "cell_type": "markdown",
      "metadata": {
        "id": "iYmiyxhhnFyW"
      },
      "source": [
        "## Problem 4: Binary Cross-Entropy\n",
        "\n",
        "The loss function used for binary classification is Binary Cross-Entropy or Log-Loss. The formula to calculate this can be written as:\n",
        "\n",
        "$$\n",
        "-\\frac{1}{N}\\sum_{i=1}^{N}y_i\\cdot log(p(y_i)) + (1-y_i)\\cdot log(1-p(y_i))\n",
        "$$\n",
        "\n",
        "Where $y_i$ is the actual class label (positive ($y_i = 1$) or negative class ($y_i = 0$)) and $p(y_i)$ is the predicted probability.\n",
        "\n",
        "Write a function called `bce` that takes in an array of predicted probabilities and their actual class and returns the binary cross-entropy loss. You may **not** use `sklearn` or any other Python library that already has created this loss function. The only additional Python library you may use is `numpy`.\n",
        "\n",
        "As an example, we will use this simple data of 3 observations:  \n",
        "\n",
        "| Predicted Probability | Actual Class |\n",
        "| --- | --- |\n",
        "| 0.5 | 0 |\n",
        "| 0.6 | 1 |\n",
        "| 0.7 | 1 |\n",
        "\n",
        "> For example:  \n",
        "```python\n",
        "data = np.array([[0.5, 0],\n",
        "                 [0.6, 1],\n",
        "                 [0.7, 1]])\n",
        "bce(data)\n",
        "```\n",
        "> should return:\n",
        "```python\n",
        "0.5202159160882228\n",
        "```\n",
        "> (differences in rounding may occur)"
      ]
    },
    {
      "cell_type": "markdown",
      "metadata": {
        "id": "c003gwwQnFyX"
      },
      "source": [
        "**4pts total**  \n",
        "*Partial credit will be given if substantial progress to the right answer is made.*"
      ]
    },
    {
      "cell_type": "code",
      "execution_count": 88,
      "metadata": {
        "id": "ShzpjjXNnFyX"
      },
      "outputs": [],
      "source": [
        "import numpy as np\n",
        "\n",
        "data = np.array([[0.5, 0],\n",
        "                 [0.6, 1],\n",
        "                 [0.7, 1]])"
      ]
    },
    {
      "cell_type": "code",
      "execution_count": null,
      "metadata": {
        "id": "YLwQUQD_nFyX"
      },
      "outputs": [],
      "source": [
        "# your answer here:\n",
        "# sketch of plan\n",
        "\n",
        "  # takes in\n",
        "    # an array of predicted probabilities\n",
        "\n",
        "    # and their actual class\n",
        "\n",
        "  # returns:\n",
        "    # returns the binary cross-entropy loss function\n",
        "\n",
        "    # need to step out the formula into components\n",
        "      # −1/N N∑i=1 *\n",
        "      # [\n",
        "      # yi *        # positive label\n",
        "      # log(p(yi)) +\n",
        "      # (1−yi) *    # negative label\n",
        "      # log(1−p(yi))\n",
        "      # ]\n",
        "\n",
        "# will return time-dependent"
      ]
    },
    {
      "cell_type": "code",
      "execution_count": null,
      "metadata": {
        "id": "Um6fuYSmnFyY"
      },
      "outputs": [],
      "source": [
        "bce(data)"
      ]
    },
    {
      "cell_type": "markdown",
      "metadata": {
        "id": "NuaZQMj4nFyY"
      },
      "source": [
        "## Problem 5: Palindrome Numbers\n",
        "\n",
        "Palindromes are words, numbers, or phrases that can be read the same forwards as backwards. For example, 'taco cat', '12321' and 'Hannah' are examples of Palindromes since they are the same forwards as backwards.\n",
        "\n",
        "Write a function called `palindrome_num` that takes in a positive integer and returns `True` if that number is a Palindrome and `False` if it is not.\n",
        "\n",
        "**IMPORTANT:** You are **not** allowed to convert the integer to a string or a list to solve this problem.\n",
        "\n",
        "> For example:\n",
        "```python\n",
        "palindrome_num(34543)\n",
        "```\n",
        "> should return:\n",
        "```python\n",
        "True\n",
        "```"
      ]
    },
    {
      "cell_type": "markdown",
      "metadata": {
        "id": "P905RuIOnFyY"
      },
      "source": [
        "**4pts total**  \n",
        "*Partial credit will be given if substantial progress to the right answer is made.*"
      ]
    },
    {
      "cell_type": "code",
      "execution_count": null,
      "metadata": {
        "id": "5Mrpe6munFyY"
      },
      "outputs": [],
      "source": [
        "# your answer here:\n",
        "\n",
        "def palindrome_num(n):\n",
        "\n",
        "# sketch of plan\n",
        "  # takes in a positive integer and\n",
        "\n",
        "  # returns:\n",
        "    # True if that number is a Palindrome and\n",
        "\n",
        "\n",
        "    # False if it is not\n",
        "\n",
        "  # to assess if is a palindrome without converting to string or list, ideas I am considering:\n",
        "    # adding each component integer (so if its 20, add 2 + 0; if its odd, take outer ones ie: 123 add 1+3 only)\n",
        "    # test if that component is the same backwards and forwards (ie if you swap the places of integers youre adding)\n",
        "      # if so, set to palindrome variable and return\n",
        "      # if no, return or continue as appropriate\n",
        "\n",
        "# will return time-dependent\n"
      ]
    },
    {
      "cell_type": "code",
      "execution_count": null,
      "metadata": {
        "id": "FE8h2anqnFyY"
      },
      "outputs": [],
      "source": [
        "palindrome_num(34543)"
      ]
    },
    {
      "cell_type": "code",
      "execution_count": null,
      "metadata": {
        "id": "ClaFmUc4nFyZ"
      },
      "outputs": [],
      "source": [
        "palindrome_num(123)"
      ]
    },
    {
      "cell_type": "markdown",
      "metadata": {
        "id": "TAc_6CjbnFyZ"
      },
      "source": [
        "## Bonus: Quotes\n",
        "\n",
        "Get up to 2 bonus points for writing a famous/movie quote in code (Python, SQL, Unix commands, etc.). Your code does not have to actually run but it should make sense.\n",
        "\n",
        "> Example 1 (credit: Riley Dallas):\n",
        "```python\n",
        "if not success:\n",
        "    for i in range(2):\n",
        "        tries += 1\n",
        "```\n",
        "> \"If at first you don't succeed, try try again.\"\n",
        "\n",
        "> Example 2 (credit: Noah Christiansen):\n",
        "```shell\n",
        "C:\\Users\\nobody> mv baby.txt corner\n",
        "```\n",
        "> \"Nobody puts Baby in a corner.\" (from the movie [*Dirty Dancing*](https://writingexplained.org/idiom-dictionary/nobody-puts-baby-in-the-corner))"
      ]
    },
    {
      "cell_type": "code",
      "execution_count": null,
      "metadata": {
        "id": "NHd1w3_bnFyZ"
      },
      "outputs": [],
      "source": [
        "# don't have time to do this clearly given i'm already a minute over. but a courtesy bonus point for having watching this week's episode of dune prophecy and loving it would be super appreciated! =] (hopefully you're a dune fan lol)"
      ]
    }
  ],
  "metadata": {
    "kernelspec": {
      "display_name": "Python 3",
      "language": "python",
      "name": "python3"
    },
    "language_info": {
      "codemirror_mode": {
        "name": "ipython",
        "version": 3
      },
      "file_extension": ".py",
      "mimetype": "text/x-python",
      "name": "python",
      "nbconvert_exporter": "python",
      "pygments_lexer": "ipython3",
      "version": "3.7.6"
    },
    "colab": {
      "provenance": [],
      "include_colab_link": true
    }
  },
  "nbformat": 4,
  "nbformat_minor": 0
}